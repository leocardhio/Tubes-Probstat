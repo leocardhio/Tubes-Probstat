{
 "metadata": {
  "language_info": {
   "codemirror_mode": {
    "name": "ipython",
    "version": 3
   },
   "file_extension": ".py",
   "mimetype": "text/x-python",
   "name": "python",
   "nbconvert_exporter": "python",
   "pygments_lexer": "ipython3",
   "version": "3.8.1-final"
  },
  "orig_nbformat": 2,
  "kernelspec": {
   "name": "python381jvsc74a57bd0c9ce55f9ba57a8003a54b9713afa7330860e987bb6873c8ef1e2246201b3ae9f",
   "display_name": "Python 3.8.1 32-bit"
  }
 },
 "nbformat": 4,
 "nbformat_minor": 2,
 "cells": [
  {
   "cell_type": "code",
   "execution_count": 143,
   "metadata": {},
   "outputs": [],
   "source": [
    "import pandas as pd\n",
    "import numpy as py\n",
    "import matplotlib as plt"
   ]
  },
  {
   "cell_type": "code",
   "execution_count": 144,
   "metadata": {},
   "outputs": [],
   "source": [
    "def mean(df, colname, from_row_idx, to_row_idx):\n",
    "    lendata = to_row_idx - from_row_idx + 1\n",
    "    sum = 0\n",
    "    for j in range (len(df)):\n",
    "        sum+=float(df.loc[j,colname])\n",
    "    return sum/lendata\n",
    "\n",
    "def median(df, colname, from_row_idx, to_row_idx):\n",
    "    listdata = list(df.loc[from_row_idx:to_row_idx, colname])\n",
    "    listdata.sort()\n",
    "    middle_idx = len(listdata)//2\n",
    "    if (len(listdata)%2==0):\n",
    "        return (listdata[middle_idx]+listdata[middle_idx-1])/2\n",
    "    else:\n",
    "        return listdata[middle_idx]"
   ]
  },
  {
   "cell_type": "code",
   "execution_count": 145,
   "metadata": {
    "tags": []
   },
   "outputs": [
    {
     "output_type": "stream",
     "name": "stdout",
     "text": [
      "4801.246\n4735.0\n"
     ]
    }
   ],
   "source": [
    "head = [\"id\",\"Daerah\",\"SumbuUtama\",\"SumbuKecil\",\"Keunikan\",\"AreaBulatan\",\"Diameter\",\"KadarAir\",\"Keliling\",\"Bulatan\",\"Ransum\",\"Kelas\"]\n",
    "df = pd.read_csv(\"Gandum.csv\", names=head)\n",
    "\n",
    "print(mean(df,\"Daerah\",0,len(df)-1))\n",
    "print(median(df,\"Daerah\",0,len(df)-1))"
   ]
  },
  {
   "cell_type": "code",
   "execution_count": 146,
   "metadata": {},
   "outputs": [
    {
     "output_type": "execute_result",
     "data": {
      "text/plain": [
       "7453"
      ]
     },
     "metadata": {},
     "execution_count": 146
    }
   ],
   "source": [
    "4801.246\n",
    "2522\n",
    "7453"
   ]
  }
 ]
}