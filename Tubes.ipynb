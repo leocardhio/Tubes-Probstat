{
 "metadata": {
  "language_info": {
   "codemirror_mode": {
    "name": "ipython",
    "version": 3
   },
   "file_extension": ".py",
   "mimetype": "text/x-python",
   "name": "python",
   "nbconvert_exporter": "python",
   "pygments_lexer": "ipython3",
   "version": "3.8.1-final"
  },
  "orig_nbformat": 2,
  "kernelspec": {
   "name": "python381jvsc74a57bd0c9ce55f9ba57a8003a54b9713afa7330860e987bb6873c8ef1e2246201b3ae9f",
   "display_name": "Python 3.8.1 32-bit"
  }
 },
 "nbformat": 4,
 "nbformat_minor": 2,
 "cells": [
  {
   "cell_type": "code",
   "execution_count": 46,
   "metadata": {},
   "outputs": [],
   "source": [
    "import pandas as pd\n",
    "import numpy as py\n",
    "import matplotlib as plt"
   ]
  },
  {
   "cell_type": "code",
   "execution_count": 47,
   "metadata": {},
   "outputs": [],
   "source": [
    "def mean(df, colname, from_row_idx, to_row_idx):\n",
    "    lendata = to_row_idx - from_row_idx + 1\n",
    "    sum = 0\n",
    "    for j in range (from_row_idx, to_row_idx+1):\n",
    "        sum+=float(df.loc[j,colname])\n",
    "    return sum/lendata\n",
    "\n",
    "def median(df, colname, from_row_idx, to_row_idx):\n",
    "    listdata = list(df.loc[from_row_idx:to_row_idx, colname])\n",
    "    listdata.sort()\n",
    "    middle_idx = len(listdata)//2\n",
    "    if (len(listdata)%2==0):\n",
    "        return (listdata[middle_idx]+listdata[middle_idx-1])/2\n",
    "    else:\n",
    "        return listdata[middle_idx]\n",
    "\n",
    "def modus(df, colname, from_row_idx, to_row_idx):\n",
    "    listdata = list(df.loc[from_row_idx:to_row_idx, colname])\n",
    "    listdata.sort()\n",
    "    count_max = 0\n",
    "    current_data = listdata[0]\n",
    "    mode_data = []\n",
    "    idx_data = 0\n",
    "    j=0\n",
    "    while (j<len(listdata)):\n",
    "        count_temp = 0\n",
    "        while (listdata[j]==current_data and j<len(listdata)):\n",
    "            count_temp += 1\n",
    "            j+=1\n",
    "        \n",
    "        if (count_temp > count_max):\n",
    "            mode_data = []\n",
    "            count_max = count_temp\n",
    "            mode_data.append(current_data)\n",
    "        elif (count_temp == count_max):\n",
    "            mode_data.append(current_data)\n",
    "        \n",
    "        current_data = listdata[j]\n",
    "        j+=1\n",
    "        \n",
    "            \n",
    "    return mode_data\n"
   ]
  },
  {
   "cell_type": "code",
   "execution_count": 48,
   "metadata": {
    "tags": []
   },
   "outputs": [
    {
     "output_type": "stream",
     "name": "stdout",
     "text": [
      "4801.246\n4735.0\n[3992, 4881, 5642, 6083]\n"
     ]
    }
   ],
   "source": [
    "head = [\"id\",\"Daerah\",\"SumbuUtama\",\"SumbuKecil\",\"Keunikan\",\"AreaBulatan\",\"Diameter\",\"KadarAir\",\"Keliling\",\"Bulatan\",\"Ransum\",\"Kelas\"]\n",
    "\n",
    "df = pd.read_csv(\"Gandum.csv\", names=head)\n",
    "\n",
    "print(mean(df,\"Daerah\",0,len(df)-1))\n",
    "print(median(df,\"Daerah\",0,len(df)-1))\n",
    "print(modus(df,\"Daerah\",0,len(df)-1))"
   ]
  },
  {
   "cell_type": "code",
   "execution_count": 49,
   "metadata": {},
   "outputs": [
    {
     "output_type": "execute_result",
     "data": {
      "text/plain": [
       "7453"
      ]
     },
     "metadata": {},
     "execution_count": 49
    }
   ],
   "source": [
    "4801.246\n",
    "2522\n",
    "7453"
   ]
  }
 ]
}